{
 "cells": [
  {
   "cell_type": "code",
   "execution_count": 1,
   "metadata": {},
   "outputs": [
    {
     "name": "stderr",
     "output_type": "stream",
     "text": [
      "/home/ubuntu/anaconda3/envs/tensorflow_p36/lib/python3.6/site-packages/h5py/__init__.py:36: FutureWarning: Conversion of the second argument of issubdtype from `float` to `np.floating` is deprecated. In future, it will be treated as `np.float64 == np.dtype(float).type`.\n",
      "  from ._conv import register_converters as _register_converters\n",
      "Using TensorFlow backend.\n",
      "/home/ubuntu/anaconda3/envs/tensorflow_p36/lib/python3.6/site-packages/matplotlib/__init__.py:1067: UserWarning: Duplicate key in file \"/home/ubuntu/.config/matplotlib/matplotlibrc\", line #2\n",
      "  (fname, cnt))\n",
      "/home/ubuntu/anaconda3/envs/tensorflow_p36/lib/python3.6/site-packages/matplotlib/__init__.py:1067: UserWarning: Duplicate key in file \"/home/ubuntu/.config/matplotlib/matplotlibrc\", line #3\n",
      "  (fname, cnt))\n"
     ]
    },
    {
     "data": {
      "text/plain": [
       "'2.1.5'"
      ]
     },
     "execution_count": 1,
     "metadata": {},
     "output_type": "execute_result"
    }
   ],
   "source": [
    "import keras\n",
    "keras.__version__"
   ]
  },
  {
   "cell_type": "code",
   "execution_count": 2,
   "metadata": {},
   "outputs": [],
   "source": [
    "from keras.applications import VGG16\n",
    "\n",
    "conv_base = VGG16(weights='imagenet',\n",
    "                  include_top=False,\n",
    "                  input_shape=(150, 150, 3))"
   ]
  },
  {
   "cell_type": "code",
   "execution_count": 3,
   "metadata": {},
   "outputs": [
    {
     "name": "stdout",
     "output_type": "stream",
     "text": [
      "_________________________________________________________________\n",
      "Layer (type)                 Output Shape              Param #   \n",
      "=================================================================\n",
      "input_1 (InputLayer)         (None, 150, 150, 3)       0         \n",
      "_________________________________________________________________\n",
      "block1_conv1 (Conv2D)        (None, 150, 150, 64)      1792      \n",
      "_________________________________________________________________\n",
      "block1_conv2 (Conv2D)        (None, 150, 150, 64)      36928     \n",
      "_________________________________________________________________\n",
      "block1_pool (MaxPooling2D)   (None, 75, 75, 64)        0         \n",
      "_________________________________________________________________\n",
      "block2_conv1 (Conv2D)        (None, 75, 75, 128)       73856     \n",
      "_________________________________________________________________\n",
      "block2_conv2 (Conv2D)        (None, 75, 75, 128)       147584    \n",
      "_________________________________________________________________\n",
      "block2_pool (MaxPooling2D)   (None, 37, 37, 128)       0         \n",
      "_________________________________________________________________\n",
      "block3_conv1 (Conv2D)        (None, 37, 37, 256)       295168    \n",
      "_________________________________________________________________\n",
      "block3_conv2 (Conv2D)        (None, 37, 37, 256)       590080    \n",
      "_________________________________________________________________\n",
      "block3_conv3 (Conv2D)        (None, 37, 37, 256)       590080    \n",
      "_________________________________________________________________\n",
      "block3_pool (MaxPooling2D)   (None, 18, 18, 256)       0         \n",
      "_________________________________________________________________\n",
      "block4_conv1 (Conv2D)        (None, 18, 18, 512)       1180160   \n",
      "_________________________________________________________________\n",
      "block4_conv2 (Conv2D)        (None, 18, 18, 512)       2359808   \n",
      "_________________________________________________________________\n",
      "block4_conv3 (Conv2D)        (None, 18, 18, 512)       2359808   \n",
      "_________________________________________________________________\n",
      "block4_pool (MaxPooling2D)   (None, 9, 9, 512)         0         \n",
      "_________________________________________________________________\n",
      "block5_conv1 (Conv2D)        (None, 9, 9, 512)         2359808   \n",
      "_________________________________________________________________\n",
      "block5_conv2 (Conv2D)        (None, 9, 9, 512)         2359808   \n",
      "_________________________________________________________________\n",
      "block5_conv3 (Conv2D)        (None, 9, 9, 512)         2359808   \n",
      "_________________________________________________________________\n",
      "block5_pool (MaxPooling2D)   (None, 4, 4, 512)         0         \n",
      "=================================================================\n",
      "Total params: 14,714,688\n",
      "Trainable params: 14,714,688\n",
      "Non-trainable params: 0\n",
      "_________________________________________________________________\n"
     ]
    }
   ],
   "source": [
    "conv_base.summary()"
   ]
  },
  {
   "cell_type": "code",
   "execution_count": 4,
   "metadata": {},
   "outputs": [
    {
     "name": "stdout",
     "output_type": "stream",
     "text": [
      "Found 2000 images belonging to 2 classes.\n",
      "Found 1000 images belonging to 2 classes.\n",
      "Found 1000 images belonging to 2 classes.\n"
     ]
    }
   ],
   "source": [
    "import os\n",
    "import numpy as np\n",
    "from keras.preprocessing.image import ImageDataGenerator\n",
    "\n",
    "base_dir = '/Users/fchollet/Downloads/cats_and_dogs_small'\n",
    "base_dir = '/home/ubuntu/Downloads/cats_and_dogs_small'\n",
    "\n",
    "train_dir = os.path.join(base_dir, 'train')\n",
    "validation_dir = os.path.join(base_dir, 'validation')\n",
    "test_dir = os.path.join(base_dir, 'test')\n",
    "\n",
    "datagen = ImageDataGenerator(rescale=1./255)\n",
    "batch_size = 20\n",
    "\n",
    "def extract_features(directory, sample_count):\n",
    "    features = np.zeros(shape=(sample_count, 4, 4, 512))\n",
    "    labels = np.zeros(shape=(sample_count))\n",
    "    generator = datagen.flow_from_directory(\n",
    "        directory,\n",
    "        target_size=(150, 150),\n",
    "        batch_size=batch_size,\n",
    "        class_mode='binary')\n",
    "    i = 0\n",
    "    for inputs_batch, labels_batch in generator:\n",
    "        features_batch = conv_base.predict(inputs_batch)\n",
    "        features[i * batch_size : (i + 1) * batch_size] = features_batch\n",
    "        labels[i * batch_size : (i + 1) * batch_size] = labels_batch\n",
    "        i += 1\n",
    "        if i * batch_size >= sample_count:\n",
    "            # Note that since generators yield data indefinitely in a loop,\n",
    "            # we must `break` after every image has been seen once.\n",
    "            break\n",
    "    return features, labels\n",
    "\n",
    "train_features, train_labels = extract_features(train_dir, 2000)\n",
    "validation_features, validation_labels = extract_features(validation_dir, 1000)\n",
    "test_features, test_labels = extract_features(test_dir, 1000)"
   ]
  },
  {
   "cell_type": "code",
   "execution_count": 5,
   "metadata": {},
   "outputs": [],
   "source": [
    "train_features = np.reshape(train_features, (2000, 4 * 4 * 512))\n",
    "validation_features = np.reshape(validation_features, (1000, 4 * 4 * 512))\n",
    "test_features = np.reshape(test_features, (1000, 4 * 4 * 512))"
   ]
  },
  {
   "cell_type": "code",
   "execution_count": 6,
   "metadata": {},
   "outputs": [
    {
     "name": "stdout",
     "output_type": "stream",
     "text": [
      "Train on 2000 samples, validate on 1000 samples\n",
      "Epoch 1/30\n",
      "2000/2000 [==============================] - 1s 532us/step - loss: 0.5987 - acc: 0.6650 - val_loss: 0.4406 - val_acc: 0.8150\n",
      "Epoch 2/30\n",
      "2000/2000 [==============================] - 1s 339us/step - loss: 0.4326 - acc: 0.8010 - val_loss: 0.3658 - val_acc: 0.8590\n",
      "Epoch 3/30\n",
      "2000/2000 [==============================] - 1s 336us/step - loss: 0.3619 - acc: 0.8400 - val_loss: 0.3283 - val_acc: 0.8680\n",
      "Epoch 4/30\n",
      "2000/2000 [==============================] - 1s 341us/step - loss: 0.3145 - acc: 0.8720 - val_loss: 0.3053 - val_acc: 0.8710\n",
      "Epoch 5/30\n",
      "2000/2000 [==============================] - 1s 343us/step - loss: 0.2874 - acc: 0.8805 - val_loss: 0.2853 - val_acc: 0.8820\n",
      "Epoch 6/30\n",
      "2000/2000 [==============================] - 1s 342us/step - loss: 0.2686 - acc: 0.8940 - val_loss: 0.2760 - val_acc: 0.8760\n",
      "Epoch 7/30\n",
      "2000/2000 [==============================] - 1s 341us/step - loss: 0.2569 - acc: 0.8960 - val_loss: 0.2817 - val_acc: 0.8800\n",
      "Epoch 8/30\n",
      "2000/2000 [==============================] - 1s 342us/step - loss: 0.2396 - acc: 0.9085 - val_loss: 0.2606 - val_acc: 0.8870\n",
      "Epoch 9/30\n",
      "2000/2000 [==============================] - 1s 338us/step - loss: 0.2183 - acc: 0.9175 - val_loss: 0.2618 - val_acc: 0.8770\n",
      "Epoch 10/30\n",
      "2000/2000 [==============================] - 1s 342us/step - loss: 0.2114 - acc: 0.9235 - val_loss: 0.2524 - val_acc: 0.8920\n",
      "Epoch 11/30\n",
      "2000/2000 [==============================] - 1s 340us/step - loss: 0.2047 - acc: 0.9255 - val_loss: 0.2601 - val_acc: 0.8850\n",
      "Epoch 12/30\n",
      "2000/2000 [==============================] - 1s 342us/step - loss: 0.1946 - acc: 0.9310 - val_loss: 0.2552 - val_acc: 0.8880\n",
      "Epoch 13/30\n",
      "2000/2000 [==============================] - 1s 342us/step - loss: 0.1827 - acc: 0.9305 - val_loss: 0.2400 - val_acc: 0.9030\n",
      "Epoch 14/30\n",
      "2000/2000 [==============================] - 1s 337us/step - loss: 0.1756 - acc: 0.9415 - val_loss: 0.2379 - val_acc: 0.9020\n",
      "Epoch 15/30\n",
      "2000/2000 [==============================] - 1s 338us/step - loss: 0.1688 - acc: 0.9360 - val_loss: 0.2423 - val_acc: 0.8930\n",
      "Epoch 16/30\n",
      "2000/2000 [==============================] - 1s 340us/step - loss: 0.1640 - acc: 0.9410 - val_loss: 0.2364 - val_acc: 0.8990\n",
      "Epoch 17/30\n",
      "2000/2000 [==============================] - 1s 343us/step - loss: 0.1536 - acc: 0.9500 - val_loss: 0.2404 - val_acc: 0.8960\n",
      "Epoch 18/30\n",
      "2000/2000 [==============================] - 1s 340us/step - loss: 0.1488 - acc: 0.9490 - val_loss: 0.2347 - val_acc: 0.9020\n",
      "Epoch 19/30\n",
      "2000/2000 [==============================] - 1s 340us/step - loss: 0.1429 - acc: 0.9505 - val_loss: 0.2326 - val_acc: 0.9030\n",
      "Epoch 20/30\n",
      "2000/2000 [==============================] - 1s 339us/step - loss: 0.1370 - acc: 0.9595 - val_loss: 0.2324 - val_acc: 0.9040\n",
      "Epoch 21/30\n",
      "2000/2000 [==============================] - 1s 341us/step - loss: 0.1328 - acc: 0.9545 - val_loss: 0.2403 - val_acc: 0.8950\n",
      "Epoch 22/30\n",
      "2000/2000 [==============================] - 1s 342us/step - loss: 0.1315 - acc: 0.9565 - val_loss: 0.2361 - val_acc: 0.9000\n",
      "Epoch 23/30\n",
      "2000/2000 [==============================] - 1s 338us/step - loss: 0.1244 - acc: 0.9610 - val_loss: 0.2335 - val_acc: 0.9020\n",
      "Epoch 24/30\n",
      "2000/2000 [==============================] - 1s 340us/step - loss: 0.1209 - acc: 0.9590 - val_loss: 0.2374 - val_acc: 0.8970\n",
      "Epoch 25/30\n",
      "2000/2000 [==============================] - 1s 340us/step - loss: 0.1136 - acc: 0.9640 - val_loss: 0.2327 - val_acc: 0.9040\n",
      "Epoch 26/30\n",
      "2000/2000 [==============================] - 1s 341us/step - loss: 0.1069 - acc: 0.9670 - val_loss: 0.2346 - val_acc: 0.9040\n",
      "Epoch 27/30\n",
      "2000/2000 [==============================] - 1s 343us/step - loss: 0.1120 - acc: 0.9630 - val_loss: 0.2345 - val_acc: 0.9010\n",
      "Epoch 28/30\n",
      "2000/2000 [==============================] - 1s 340us/step - loss: 0.1004 - acc: 0.9695 - val_loss: 0.2395 - val_acc: 0.8990\n",
      "Epoch 29/30\n",
      "2000/2000 [==============================] - 1s 341us/step - loss: 0.0996 - acc: 0.9665 - val_loss: 0.2351 - val_acc: 0.9020\n",
      "Epoch 30/30\n",
      "2000/2000 [==============================] - 1s 340us/step - loss: 0.0914 - acc: 0.9690 - val_loss: 0.2445 - val_acc: 0.8960\n"
     ]
    }
   ],
   "source": [
    "from keras import models\n",
    "from keras import layers\n",
    "from keras import optimizers\n",
    "\n",
    "model = models.Sequential()\n",
    "model.add(layers.Dense(256, activation='relu', input_dim=4 * 4 * 512))\n",
    "model.add(layers.Dropout(0.5))\n",
    "model.add(layers.Dense(1, activation='sigmoid'))\n",
    "\n",
    "model.compile(optimizer=optimizers.RMSprop(lr=2e-5),\n",
    "              loss='binary_crossentropy',\n",
    "              metrics=['acc'])\n",
    "\n",
    "history = model.fit(train_features, train_labels,\n",
    "                    epochs=30,\n",
    "                    batch_size=20,\n",
    "                    validation_data=(validation_features, validation_labels))"
   ]
  },
  {
   "cell_type": "code",
   "execution_count": 8,
   "metadata": {},
   "outputs": [
    {
     "data": {
      "image/png": "[encoded data removed]",
      "text/plain": [
       "<Figure size 432x288 with 1 Axes>"
      ]
     },
     "metadata": {},
     "output_type": "display_data"
    },
    {
     "data": {
      "image/png": "[encoded data removed]",
      "text/plain": [
       "<Figure size 432x288 with 1 Axes>"
      ]
     },
     "metadata": {},
     "output_type": "display_data"
    }
   ],
   "source": [
    "import matplotlib.pyplot as plt\n",
    "\n",
    "acc = history.history['acc']\n",
    "val_acc = history.history['val_acc']\n",
    "loss = history.history['loss']\n",
    "val_loss = history.history['val_loss']\n",
    "\n",
    "epochs = range(len(acc))\n",
    "\n",
    "plt.plot(epochs, acc, 'bo', label='Training acc')\n",
    "plt.plot(epochs, val_acc, 'b', label='Validation acc')\n",
    "plt.title('Training and validation accuracy')\n",
    "plt.legend()\n",
    "\n",
    "plt.figure()\n",
    "\n",
    "plt.plot(epochs, loss, 'bo', label='Training loss')\n",
    "plt.plot(epochs, val_loss, 'b', label='Validation loss')\n",
    "plt.title('Training and validation loss')\n",
    "plt.legend()\n",
    "\n",
    "plt.show()"
   ]
  },
  {
   "cell_type": "code",
   "execution_count": 9,
   "metadata": {},
   "outputs": [],
   "source": [
    "from keras import models\n",
    "from keras import layers\n",
    "\n",
    "model = models.Sequential()\n",
    "model.add(conv_base)\n",
    "model.add(layers.Flatten())\n",
    "model.add(layers.Dense(256, activation='relu'))\n",
    "model.add(layers.Dense(1, activation='sigmoid'))"
   ]
  },
  {
   "cell_type": "code",
   "execution_count": 10,
   "metadata": {},
   "outputs": [
    {
     "name": "stdout",
     "output_type": "stream",
     "text": [
      "_________________________________________________________________\n",
      "Layer (type)                 Output Shape              Param #   \n",
      "=================================================================\n",
      "vgg16 (Model)                (None, 4, 4, 512)         14714688  \n",
      "_________________________________________________________________\n",
      "flatten_1 (Flatten)          (None, 8192)              0         \n",
      "_________________________________________________________________\n",
      "dense_3 (Dense)              (None, 256)               2097408   \n",
      "_________________________________________________________________\n",
      "dense_4 (Dense)              (None, 1)                 257       \n",
      "=================================================================\n",
      "Total params: 16,812,353\n",
      "Trainable params: 16,812,353\n",
      "Non-trainable params: 0\n",
      "_________________________________________________________________\n"
     ]
    }
   ],
   "source": [
    "model.summary()"
   ]
  },
  {
   "cell_type": "code",
   "execution_count": 11,
   "metadata": {},
   "outputs": [
    {
     "name": "stdout",
     "output_type": "stream",
     "text": [
      "This is the number of trainable weights before freezing the conv base: 30\n"
     ]
    }
   ],
   "source": [
    "print('This is the number of trainable weights '\n",
    "      'before freezing the conv base:', len(model.trainable_weights))"
   ]
  },
  {
   "cell_type": "code",
   "execution_count": 12,
   "metadata": {},
   "outputs": [],
   "source": [
    "conv_base.trainable = False"
   ]
  },
  {
   "cell_type": "code",
   "execution_count": 13,
   "metadata": {},
   "outputs": [
    {
     "name": "stdout",
     "output_type": "stream",
     "text": [
      "This is the number of trainable weights after freezing the conv base: 4\n"
     ]
    }
   ],
   "source": [
    "print('This is the number of trainable weights '\n",
    "      'after freezing the conv base:', len(model.trainable_weights))"
   ]
  },
  {
   "cell_type": "code",
   "execution_count": 14,
   "metadata": {},
   "outputs": [
    {
     "name": "stdout",
     "output_type": "stream",
     "text": [
      "Found 2000 images belonging to 2 classes.\n",
      "Found 1000 images belonging to 2 classes.\n",
      "Epoch 1/30\n",
      " - 28s - loss: 0.6032 - acc: 0.6775 - val_loss: 0.4503 - val_acc: 0.8310\n",
      "Epoch 2/30\n",
      " - 26s - loss: 0.4679 - acc: 0.7930 - val_loss: 0.3672 - val_acc: 0.8610\n",
      "Epoch 3/30\n",
      " - 26s - loss: 0.4340 - acc: 0.8090 - val_loss: 0.3331 - val_acc: 0.8730\n",
      "Epoch 4/30\n",
      " - 26s - loss: 0.3996 - acc: 0.8275 - val_loss: 0.3033 - val_acc: 0.8880\n",
      "Epoch 5/30\n",
      " - 26s - loss: 0.3871 - acc: 0.8320 - val_loss: 0.2890 - val_acc: 0.8900\n",
      "Epoch 6/30\n",
      " - 26s - loss: 0.3677 - acc: 0.8425 - val_loss: 0.2819 - val_acc: 0.8800\n",
      "Epoch 7/30\n",
      " - 26s - loss: 0.3566 - acc: 0.8405 - val_loss: 0.2880 - val_acc: 0.8830\n",
      "Epoch 8/30\n",
      " - 26s - loss: 0.3532 - acc: 0.8445 - val_loss: 0.2692 - val_acc: 0.8990\n",
      "Epoch 9/30\n",
      " - 26s - loss: 0.3491 - acc: 0.8410 - val_loss: 0.2580 - val_acc: 0.8960\n",
      "Epoch 10/30\n",
      " - 26s - loss: 0.3431 - acc: 0.8370 - val_loss: 0.2595 - val_acc: 0.8920\n",
      "Epoch 11/30\n",
      " - 26s - loss: 0.3364 - acc: 0.8480 - val_loss: 0.2541 - val_acc: 0.8960\n",
      "Epoch 12/30\n",
      " - 27s - loss: 0.3202 - acc: 0.8585 - val_loss: 0.2719 - val_acc: 0.8830\n",
      "Epoch 13/30\n",
      " - 26s - loss: 0.3284 - acc: 0.8535 - val_loss: 0.2589 - val_acc: 0.8950\n",
      "Epoch 14/30\n",
      " - 26s - loss: 0.3177 - acc: 0.8645 - val_loss: 0.2493 - val_acc: 0.9000\n",
      "Epoch 15/30\n",
      " - 26s - loss: 0.3107 - acc: 0.8605 - val_loss: 0.2494 - val_acc: 0.9020\n",
      "Epoch 16/30\n",
      " - 26s - loss: 0.3013 - acc: 0.8725 - val_loss: 0.2446 - val_acc: 0.9010\n",
      "Epoch 17/30\n",
      " - 26s - loss: 0.3143 - acc: 0.8600 - val_loss: 0.2492 - val_acc: 0.9040\n",
      "Epoch 18/30\n",
      " - 26s - loss: 0.3017 - acc: 0.8670 - val_loss: 0.2448 - val_acc: 0.9030\n",
      "Epoch 19/30\n",
      " - 26s - loss: 0.3039 - acc: 0.8670 - val_loss: 0.2461 - val_acc: 0.9020\n",
      "Epoch 20/30\n",
      " - 26s - loss: 0.2998 - acc: 0.8720 - val_loss: 0.2419 - val_acc: 0.9060\n",
      "Epoch 21/30\n",
      " - 26s - loss: 0.3050 - acc: 0.8625 - val_loss: 0.2447 - val_acc: 0.9010\n",
      "Epoch 22/30\n",
      " - 26s - loss: 0.3059 - acc: 0.8600 - val_loss: 0.2481 - val_acc: 0.8980\n",
      "Epoch 23/30\n",
      " - 26s - loss: 0.2837 - acc: 0.8770 - val_loss: 0.2382 - val_acc: 0.9090\n",
      "Epoch 24/30\n",
      " - 26s - loss: 0.2819 - acc: 0.8825 - val_loss: 0.2374 - val_acc: 0.9100\n",
      "Epoch 25/30\n",
      " - 26s - loss: 0.2914 - acc: 0.8760 - val_loss: 0.2388 - val_acc: 0.9030\n",
      "Epoch 26/30\n",
      " - 26s - loss: 0.2901 - acc: 0.8845 - val_loss: 0.2419 - val_acc: 0.9020\n",
      "Epoch 27/30\n",
      " - 26s - loss: 0.2760 - acc: 0.8830 - val_loss: 0.2493 - val_acc: 0.9040\n",
      "Epoch 28/30\n",
      " - 26s - loss: 0.2845 - acc: 0.8830 - val_loss: 0.2464 - val_acc: 0.8990\n",
      "Epoch 29/30\n",
      " - 26s - loss: 0.2859 - acc: 0.8850 - val_loss: 0.2388 - val_acc: 0.9050\n",
      "Epoch 30/30\n",
      " - 27s - loss: 0.2717 - acc: 0.8885 - val_loss: 0.2410 - val_acc: 0.8990\n"
     ]
    }
   ],
   "source": [
    "from keras.preprocessing.image import ImageDataGenerator\n",
    "\n",
    "train_datagen = ImageDataGenerator(\n",
    "      rescale=1./255,\n",
    "      rotation_range=40,\n",
    "      width_shift_range=0.2,\n",
    "      height_shift_range=0.2,\n",
    "      shear_range=0.2,\n",
    "      zoom_range=0.2,\n",
    "      horizontal_flip=True,\n",
    "      fill_mode='nearest')\n",
    "\n",
    "# Note that the validation data should not be augmented!\n",
    "test_datagen = ImageDataGenerator(rescale=1./255)\n",
    "\n",
    "train_generator = train_datagen.flow_from_directory(\n",
    "        # This is the target directory\n",
    "        train_dir,\n",
    "        # All images will be resized to 150x150\n",
    "        target_size=(150, 150),\n",
    "        batch_size=20,\n",
    "        # Since we use binary_crossentropy loss, we need binary labels\n",
    "        class_mode='binary')\n",
    "\n",
    "validation_generator = test_datagen.flow_from_directory(\n",
    "        validation_dir,\n",
    "        target_size=(150, 150),\n",
    "        batch_size=20,\n",
    "        class_mode='binary')\n",
    "\n",
    "model.compile(loss='binary_crossentropy',\n",
    "              optimizer=optimizers.RMSprop(lr=2e-5),\n",
    "              metrics=['acc'])\n",
    "\n",
    "history = model.fit_generator(\n",
    "      train_generator,\n",
    "      steps_per_epoch=100,\n",
    "      epochs=30,\n",
    "      validation_data=validation_generator,\n",
    "      validation_steps=50,\n",
    "      verbose=2)"
   ]
  },
  {
   "cell_type": "code",
   "execution_count": 15,
   "metadata": {},
   "outputs": [],
   "source": [
    "model.save('cats_and_dogs_small_3.h5')"
   ]
  },
  {
   "cell_type": "code",
   "execution_count": 16,
   "metadata": {},
   "outputs": [
    {
     "data": {
      "image/png": "[encoded data removed]",
      "text/plain": [
       "<Figure size 432x288 with 1 Axes>"
      ]
     },
     "metadata": {},
     "output_type": "display_data"
    },
    {
     "data": {
      "image/png": "[encoded data removed]",
      "text/plain": [
       "<Figure size 432x288 with 1 Axes>"
      ]
     },
     "metadata": {},
     "output_type": "display_data"
    }
   ],
   "source": [
    "acc = history.history['acc']\n",
    "val_acc = history.history['val_acc']\n",
    "loss = history.history['loss']\n",
    "val_loss = history.history['val_loss']\n",
    "\n",
    "epochs = range(len(acc))\n",
    "\n",
    "plt.plot(epochs, acc, 'bo', label='Training acc')\n",
    "plt.plot(epochs, val_acc, 'b', label='Validation acc')\n",
    "plt.title('Training and validation accuracy')\n",
    "plt.legend()\n",
    "\n",
    "plt.figure()\n",
    "\n",
    "plt.plot(epochs, loss, 'bo', label='Training loss')\n",
    "plt.plot(epochs, val_loss, 'b', label='Validation loss')\n",
    "plt.title('Training and validation loss')\n",
    "plt.legend()\n",
    "\n",
    "plt.show()"
   ]
  },
  {
   "cell_type": "code",
   "execution_count": 17,
   "metadata": {},
   "outputs": [
    {
     "name": "stdout",
     "output_type": "stream",
     "text": [
      "_________________________________________________________________\n",
      "Layer (type)                 Output Shape              Param #   \n",
      "=================================================================\n",
      "input_1 (InputLayer)         (None, 150, 150, 3)       0         \n",
      "_________________________________________________________________\n",
      "block1_conv1 (Conv2D)        (None, 150, 150, 64)      1792      \n",
      "_________________________________________________________________\n",
      "block1_conv2 (Conv2D)        (None, 150, 150, 64)      36928     \n",
      "_________________________________________________________________\n",
      "block1_pool (MaxPooling2D)   (None, 75, 75, 64)        0         \n",
      "_________________________________________________________________\n",
      "block2_conv1 (Conv2D)        (None, 75, 75, 128)       73856     \n",
      "_________________________________________________________________\n",
      "block2_conv2 (Conv2D)        (None, 75, 75, 128)       147584    \n",
      "_________________________________________________________________\n",
      "block2_pool (MaxPooling2D)   (None, 37, 37, 128)       0         \n",
      "_________________________________________________________________\n",
      "block3_conv1 (Conv2D)        (None, 37, 37, 256)       295168    \n",
      "_________________________________________________________________\n",
      "block3_conv2 (Conv2D)        (None, 37, 37, 256)       590080    \n",
      "_________________________________________________________________\n",
      "block3_conv3 (Conv2D)        (None, 37, 37, 256)       590080    \n",
      "_________________________________________________________________\n",
      "block3_pool (MaxPooling2D)   (None, 18, 18, 256)       0         \n",
      "_________________________________________________________________\n",
      "block4_conv1 (Conv2D)        (None, 18, 18, 512)       1180160   \n",
      "_________________________________________________________________\n",
      "block4_conv2 (Conv2D)        (None, 18, 18, 512)       2359808   \n",
      "_________________________________________________________________\n",
      "block4_conv3 (Conv2D)        (None, 18, 18, 512)       2359808   \n",
      "_________________________________________________________________\n",
      "block4_pool (MaxPooling2D)   (None, 9, 9, 512)         0         \n",
      "_________________________________________________________________\n",
      "block5_conv1 (Conv2D)        (None, 9, 9, 512)         2359808   \n",
      "_________________________________________________________________\n",
      "block5_conv2 (Conv2D)        (None, 9, 9, 512)         2359808   \n",
      "_________________________________________________________________\n",
      "block5_conv3 (Conv2D)        (None, 9, 9, 512)         2359808   \n",
      "_________________________________________________________________\n",
      "block5_pool (MaxPooling2D)   (None, 4, 4, 512)         0         \n",
      "=================================================================\n",
      "Total params: 14,714,688\n",
      "Trainable params: 0\n",
      "Non-trainable params: 14,714,688\n",
      "_________________________________________________________________\n"
     ]
    }
   ],
   "source": [
    "conv_base.summary()"
   ]
  },
  {
   "cell_type": "code",
   "execution_count": 18,
   "metadata": {},
   "outputs": [],
   "source": [
    "conv_base.trainable = True\n",
    "\n",
    "set_trainable = False\n",
    "for layer in conv_base.layers:\n",
    "    if layer.name == 'block5_conv1':\n",
    "        set_trainable = True\n",
    "    if set_trainable:\n",
    "        layer.trainable = True\n",
    "    else:\n",
    "        layer.trainable = False"
   ]
  },
  {
   "cell_type": "code",
   "execution_count": 19,
   "metadata": {},
   "outputs": [
    {
     "name": "stdout",
     "output_type": "stream",
     "text": [
      "Epoch 1/100\n",
      "100/100 [==============================] - 28s 284ms/step - loss: 0.3127 - acc: 0.8680 - val_loss: 0.2321 - val_acc: 0.9090\n",
      "Epoch 2/100\n",
      "100/100 [==============================] - 26s 262ms/step - loss: 0.2721 - acc: 0.8865 - val_loss: 0.2054 - val_acc: 0.9150\n",
      "Epoch 3/100\n",
      "100/100 [==============================] - 27s 268ms/step - loss: 0.2493 - acc: 0.8950 - val_loss: 0.2022 - val_acc: 0.9240\n",
      "Epoch 4/100\n",
      "100/100 [==============================] - 26s 264ms/step - loss: 0.2222 - acc: 0.9105 - val_loss: 0.2694 - val_acc: 0.8980\n",
      "Epoch 5/100\n",
      "100/100 [==============================] - 27s 268ms/step - loss: 0.2032 - acc: 0.9165 - val_loss: 0.2102 - val_acc: 0.9230\n",
      "Epoch 6/100\n",
      "100/100 [==============================] - 27s 266ms/step - loss: 0.1922 - acc: 0.9220 - val_loss: 0.2056 - val_acc: 0.9190\n",
      "Epoch 7/100\n",
      "100/100 [==============================] - 26s 264ms/step - loss: 0.1852 - acc: 0.9195 - val_loss: 0.1897 - val_acc: 0.9240\n",
      "Epoch 8/100\n",
      "100/100 [==============================] - 26s 263ms/step - loss: 0.1829 - acc: 0.9275 - val_loss: 0.1932 - val_acc: 0.9230\n",
      "Epoch 9/100\n",
      "100/100 [==============================] - 26s 263ms/step - loss: 0.1580 - acc: 0.9280 - val_loss: 0.1984 - val_acc: 0.9190\n",
      "Epoch 10/100\n",
      "100/100 [==============================] - 27s 266ms/step - loss: 0.1522 - acc: 0.9360 - val_loss: 0.1939 - val_acc: 0.9280\n",
      "Epoch 11/100\n",
      "100/100 [==============================] - 26s 260ms/step - loss: 0.1528 - acc: 0.9340 - val_loss: 0.1828 - val_acc: 0.9340\n",
      "Epoch 12/100\n",
      "100/100 [==============================] - 26s 261ms/step - loss: 0.1451 - acc: 0.9395 - val_loss: 0.1790 - val_acc: 0.9380\n",
      "Epoch 13/100\n",
      "100/100 [==============================] - 26s 261ms/step - loss: 0.1327 - acc: 0.9450 - val_loss: 0.1884 - val_acc: 0.9300\n",
      "Epoch 14/100\n",
      "100/100 [==============================] - 27s 269ms/step - loss: 0.1187 - acc: 0.9510 - val_loss: 0.2023 - val_acc: 0.9250\n",
      "Epoch 15/100\n",
      "100/100 [==============================] - 27s 269ms/step - loss: 0.1375 - acc: 0.9470 - val_loss: 0.2175 - val_acc: 0.9140\n",
      "Epoch 16/100\n",
      "100/100 [==============================] - 27s 269ms/step - loss: 0.1087 - acc: 0.9630 - val_loss: 0.1757 - val_acc: 0.9300\n",
      "Epoch 17/100\n",
      "100/100 [==============================] - 26s 260ms/step - loss: 0.1087 - acc: 0.9555 - val_loss: 0.1961 - val_acc: 0.9250\n",
      "Epoch 18/100\n",
      "100/100 [==============================] - 27s 267ms/step - loss: 0.1101 - acc: 0.9530 - val_loss: 0.2146 - val_acc: 0.9250\n",
      "Epoch 19/100\n",
      "100/100 [==============================] - 26s 261ms/step - loss: 0.0941 - acc: 0.9670 - val_loss: 0.2101 - val_acc: 0.9230\n",
      "Epoch 20/100\n",
      "100/100 [==============================] - 26s 262ms/step - loss: 0.1098 - acc: 0.9575 - val_loss: 0.2118 - val_acc: 0.9280\n",
      "Epoch 21/100\n",
      "100/100 [==============================] - 27s 265ms/step - loss: 0.0924 - acc: 0.9665 - val_loss: 0.2169 - val_acc: 0.9290\n",
      "Epoch 22/100\n",
      "100/100 [==============================] - 26s 263ms/step - loss: 0.0886 - acc: 0.9650 - val_loss: 0.2159 - val_acc: 0.9320\n",
      "Epoch 23/100\n",
      "100/100 [==============================] - 27s 266ms/step - loss: 0.0746 - acc: 0.9740 - val_loss: 0.1946 - val_acc: 0.9390\n",
      "Epoch 24/100\n",
      "100/100 [==============================] - 26s 261ms/step - loss: 0.0855 - acc: 0.9675 - val_loss: 0.2111 - val_acc: 0.9260\n",
      "Epoch 25/100\n",
      "100/100 [==============================] - 26s 260ms/step - loss: 0.0751 - acc: 0.9715 - val_loss: 0.1882 - val_acc: 0.9310\n",
      "Epoch 26/100\n",
      "100/100 [==============================] - 27s 268ms/step - loss: 0.0766 - acc: 0.9650 - val_loss: 0.4149 - val_acc: 0.8960\n",
      "Epoch 27/100\n",
      "100/100 [==============================] - 26s 261ms/step - loss: 0.0810 - acc: 0.9690 - val_loss: 0.1974 - val_acc: 0.9310\n",
      "Epoch 28/100\n",
      "100/100 [==============================] - 26s 261ms/step - loss: 0.0684 - acc: 0.9745 - val_loss: 0.1922 - val_acc: 0.9330\n",
      "Epoch 29/100\n",
      "100/100 [==============================] - 26s 263ms/step - loss: 0.0619 - acc: 0.9810 - val_loss: 0.2516 - val_acc: 0.9270\n",
      "Epoch 30/100\n",
      "100/100 [==============================] - 26s 263ms/step - loss: 0.0785 - acc: 0.9745 - val_loss: 0.2360 - val_acc: 0.9240\n",
      "Epoch 31/100\n",
      "100/100 [==============================] - 26s 262ms/step - loss: 0.0689 - acc: 0.9750 - val_loss: 0.1955 - val_acc: 0.9320\n",
      "Epoch 32/100\n",
      "100/100 [==============================] - 27s 271ms/step - loss: 0.0655 - acc: 0.9745 - val_loss: 0.1790 - val_acc: 0.9310\n",
      "Epoch 33/100\n",
      "100/100 [==============================] - 27s 266ms/step - loss: 0.0594 - acc: 0.9780 - val_loss: 0.2830 - val_acc: 0.9190\n",
      "Epoch 34/100\n",
      "100/100 [==============================] - 27s 267ms/step - loss: 0.0564 - acc: 0.9775 - val_loss: 0.2902 - val_acc: 0.9150\n",
      "Epoch 35/100\n",
      "100/100 [==============================] - 26s 262ms/step - loss: 0.0559 - acc: 0.9815 - val_loss: 0.1824 - val_acc: 0.9340\n",
      "Epoch 36/100\n",
      "100/100 [==============================] - 26s 262ms/step - loss: 0.0575 - acc: 0.9775 - val_loss: 0.2978 - val_acc: 0.9160\n",
      "Epoch 37/100\n",
      "100/100 [==============================] - 27s 266ms/step - loss: 0.0529 - acc: 0.9795 - val_loss: 0.2244 - val_acc: 0.9320\n",
      "Epoch 38/100\n",
      "100/100 [==============================] - 26s 259ms/step - loss: 0.0449 - acc: 0.9845 - val_loss: 0.2210 - val_acc: 0.9300\n",
      "Epoch 39/100\n",
      "100/100 [==============================] - 26s 262ms/step - loss: 0.0521 - acc: 0.9815 - val_loss: 0.2105 - val_acc: 0.9400\n",
      "Epoch 40/100\n",
      "100/100 [==============================] - 26s 261ms/step - loss: 0.0524 - acc: 0.9815 - val_loss: 0.2121 - val_acc: 0.9340\n",
      "Epoch 41/100\n",
      "100/100 [==============================] - 26s 265ms/step - loss: 0.0548 - acc: 0.9800 - val_loss: 0.2542 - val_acc: 0.9340\n",
      "Epoch 42/100\n",
      "100/100 [==============================] - 28s 275ms/step - loss: 0.0460 - acc: 0.9850 - val_loss: 0.1930 - val_acc: 0.9380\n",
      "Epoch 43/100\n",
      "100/100 [==============================] - 26s 262ms/step - loss: 0.0601 - acc: 0.9730 - val_loss: 0.1883 - val_acc: 0.9330\n",
      "Epoch 44/100\n",
      "100/100 [==============================] - 26s 263ms/step - loss: 0.0489 - acc: 0.9850 - val_loss: 0.2006 - val_acc: 0.9330\n",
      "Epoch 45/100\n",
      "100/100 [==============================] - 26s 261ms/step - loss: 0.0446 - acc: 0.9840 - val_loss: 0.2244 - val_acc: 0.9360\n",
      "Epoch 46/100\n",
      "100/100 [==============================] - 26s 265ms/step - loss: 0.0418 - acc: 0.9855 - val_loss: 0.2181 - val_acc: 0.9390\n",
      "Epoch 47/100\n",
      "100/100 [==============================] - 26s 260ms/step - loss: 0.0480 - acc: 0.9830 - val_loss: 0.2730 - val_acc: 0.9230\n",
      "Epoch 48/100\n",
      "100/100 [==============================] - 26s 262ms/step - loss: 0.0397 - acc: 0.9880 - val_loss: 0.3568 - val_acc: 0.9170\n",
      "Epoch 49/100\n",
      "100/100 [==============================] - 26s 263ms/step - loss: 0.0430 - acc: 0.9850 - val_loss: 0.2105 - val_acc: 0.9310\n",
      "Epoch 50/100\n",
      "100/100 [==============================] - 26s 259ms/step - loss: 0.0380 - acc: 0.9855 - val_loss: 0.2039 - val_acc: 0.9340\n",
      "Epoch 51/100\n",
      "100/100 [==============================] - 26s 264ms/step - loss: 0.0374 - acc: 0.9870 - val_loss: 0.2140 - val_acc: 0.9420\n",
      "Epoch 52/100\n",
      "100/100 [==============================] - 26s 264ms/step - loss: 0.0289 - acc: 0.9900 - val_loss: 0.2670 - val_acc: 0.9340\n",
      "Epoch 53/100\n",
      "100/100 [==============================] - 27s 268ms/step - loss: 0.0406 - acc: 0.9830 - val_loss: 0.2051 - val_acc: 0.9340\n",
      "Epoch 54/100\n",
      "100/100 [==============================] - 27s 269ms/step - loss: 0.0396 - acc: 0.9855 - val_loss: 0.3511 - val_acc: 0.9170\n",
      "Epoch 55/100\n",
      "100/100 [==============================] - 27s 266ms/step - loss: 0.0410 - acc: 0.9855 - val_loss: 0.2608 - val_acc: 0.9280\n",
      "Epoch 56/100\n",
      "100/100 [==============================] - 27s 266ms/step - loss: 0.0418 - acc: 0.9860 - val_loss: 0.2003 - val_acc: 0.9410\n",
      "Epoch 57/100\n",
      "100/100 [==============================] - 27s 272ms/step - loss: 0.0322 - acc: 0.9875 - val_loss: 0.1904 - val_acc: 0.9430\n",
      "Epoch 58/100\n",
      "100/100 [==============================] - 27s 265ms/step - loss: 0.0241 - acc: 0.9920 - val_loss: 0.2102 - val_acc: 0.9430\n",
      "Epoch 59/100\n",
      "100/100 [==============================] - 26s 262ms/step - loss: 0.0377 - acc: 0.9875 - val_loss: 0.2483 - val_acc: 0.9400\n",
      "Epoch 60/100\n",
      "100/100 [==============================] - 27s 268ms/step - loss: 0.0355 - acc: 0.9875 - val_loss: 0.2376 - val_acc: 0.9410\n"
     ]
    },
    {
     "name": "stdout",
     "output_type": "stream",
     "text": [
      "Epoch 61/100\n",
      "100/100 [==============================] - 26s 261ms/step - loss: 0.0295 - acc: 0.9895 - val_loss: 0.1922 - val_acc: 0.9460\n",
      "Epoch 62/100\n",
      "100/100 [==============================] - 26s 260ms/step - loss: 0.0214 - acc: 0.9915 - val_loss: 0.2756 - val_acc: 0.9260\n",
      "Epoch 63/100\n",
      "100/100 [==============================] - 26s 261ms/step - loss: 0.0315 - acc: 0.9875 - val_loss: 0.2355 - val_acc: 0.9380\n",
      "Epoch 64/100\n",
      "100/100 [==============================] - 27s 273ms/step - loss: 0.0411 - acc: 0.9865 - val_loss: 0.1982 - val_acc: 0.9370\n",
      "Epoch 65/100\n",
      "100/100 [==============================] - 27s 269ms/step - loss: 0.0286 - acc: 0.9900 - val_loss: 0.2514 - val_acc: 0.9370\n",
      "Epoch 66/100\n",
      "100/100 [==============================] - 26s 261ms/step - loss: 0.0317 - acc: 0.9885 - val_loss: 0.2238 - val_acc: 0.9360\n",
      "Epoch 67/100\n",
      "100/100 [==============================] - 27s 268ms/step - loss: 0.0211 - acc: 0.9905 - val_loss: 0.3024 - val_acc: 0.9300\n",
      "Epoch 68/100\n",
      "100/100 [==============================] - 26s 264ms/step - loss: 0.0239 - acc: 0.9915 - val_loss: 0.2227 - val_acc: 0.9450\n",
      "Epoch 69/100\n",
      "100/100 [==============================] - 26s 260ms/step - loss: 0.0301 - acc: 0.9890 - val_loss: 0.1952 - val_acc: 0.9470\n",
      "Epoch 70/100\n",
      "100/100 [==============================] - 26s 263ms/step - loss: 0.0210 - acc: 0.9930 - val_loss: 0.2115 - val_acc: 0.9460\n",
      "Epoch 71/100\n",
      "100/100 [==============================] - 26s 260ms/step - loss: 0.0274 - acc: 0.9895 - val_loss: 0.2477 - val_acc: 0.9400\n",
      "Epoch 72/100\n",
      "100/100 [==============================] - 27s 271ms/step - loss: 0.0270 - acc: 0.9920 - val_loss: 0.2532 - val_acc: 0.9490\n",
      "Epoch 73/100\n",
      "100/100 [==============================] - 26s 260ms/step - loss: 0.0281 - acc: 0.9895 - val_loss: 0.2376 - val_acc: 0.9400\n",
      "Epoch 74/100\n",
      "100/100 [==============================] - 26s 263ms/step - loss: 0.0232 - acc: 0.9905 - val_loss: 0.2616 - val_acc: 0.9320\n",
      "Epoch 75/100\n",
      "100/100 [==============================] - 26s 260ms/step - loss: 0.0197 - acc: 0.9930 - val_loss: 0.2723 - val_acc: 0.9400\n",
      "Epoch 76/100\n",
      "100/100 [==============================] - 26s 260ms/step - loss: 0.0222 - acc: 0.9925 - val_loss: 0.3269 - val_acc: 0.9290\n",
      "Epoch 77/100\n",
      "100/100 [==============================] - 27s 266ms/step - loss: 0.0283 - acc: 0.9895 - val_loss: 0.2425 - val_acc: 0.9360\n",
      "Epoch 78/100\n",
      "100/100 [==============================] - 26s 259ms/step - loss: 0.0221 - acc: 0.9930 - val_loss: 0.2038 - val_acc: 0.9460\n",
      "Epoch 79/100\n",
      "100/100 [==============================] - 27s 270ms/step - loss: 0.0175 - acc: 0.9930 - val_loss: 0.2556 - val_acc: 0.9400\n",
      "Epoch 80/100\n",
      "100/100 [==============================] - 26s 265ms/step - loss: 0.0338 - acc: 0.9875 - val_loss: 0.2162 - val_acc: 0.9440\n",
      "Epoch 81/100\n",
      "100/100 [==============================] - 26s 262ms/step - loss: 0.0346 - acc: 0.9885 - val_loss: 0.2202 - val_acc: 0.9410\n",
      "Epoch 82/100\n",
      "100/100 [==============================] - 26s 262ms/step - loss: 0.0216 - acc: 0.9910 - val_loss: 0.3171 - val_acc: 0.9240\n",
      "Epoch 83/100\n",
      "100/100 [==============================] - 27s 266ms/step - loss: 0.0165 - acc: 0.9935 - val_loss: 0.3008 - val_acc: 0.9340\n",
      "Epoch 84/100\n",
      "100/100 [==============================] - 27s 274ms/step - loss: 0.0343 - acc: 0.9890 - val_loss: 0.2498 - val_acc: 0.9360\n",
      "Epoch 85/100\n",
      "100/100 [==============================] - 27s 266ms/step - loss: 0.0204 - acc: 0.9940 - val_loss: 0.2313 - val_acc: 0.9420\n",
      "Epoch 86/100\n",
      "100/100 [==============================] - 27s 266ms/step - loss: 0.0165 - acc: 0.9940 - val_loss: 0.2424 - val_acc: 0.9380\n",
      "Epoch 87/100\n",
      "100/100 [==============================] - 26s 262ms/step - loss: 0.0299 - acc: 0.9900 - val_loss: 0.2360 - val_acc: 0.9400\n",
      "Epoch 88/100\n",
      "100/100 [==============================] - 27s 268ms/step - loss: 0.0235 - acc: 0.9925 - val_loss: 0.2334 - val_acc: 0.9410\n",
      "Epoch 89/100\n",
      "100/100 [==============================] - 26s 259ms/step - loss: 0.0245 - acc: 0.9915 - val_loss: 0.2754 - val_acc: 0.9330\n",
      "Epoch 90/100\n",
      "100/100 [==============================] - 26s 263ms/step - loss: 0.0197 - acc: 0.9935 - val_loss: 0.2872 - val_acc: 0.9360\n",
      "Epoch 91/100\n",
      "100/100 [==============================] - 26s 259ms/step - loss: 0.0246 - acc: 0.9930 - val_loss: 0.2363 - val_acc: 0.9360\n",
      "Epoch 92/100\n",
      "100/100 [==============================] - 27s 265ms/step - loss: 0.0180 - acc: 0.9935 - val_loss: 0.3323 - val_acc: 0.9300\n",
      "Epoch 93/100\n",
      "100/100 [==============================] - 27s 266ms/step - loss: 0.0403 - acc: 0.9855 - val_loss: 0.2474 - val_acc: 0.9390\n",
      "Epoch 94/100\n",
      "100/100 [==============================] - 26s 264ms/step - loss: 0.0175 - acc: 0.9930 - val_loss: 0.2729 - val_acc: 0.9410\n",
      "Epoch 95/100\n",
      "100/100 [==============================] - 26s 263ms/step - loss: 0.0135 - acc: 0.9955 - val_loss: 0.2939 - val_acc: 0.9390\n",
      "Epoch 96/100\n",
      "100/100 [==============================] - 26s 264ms/step - loss: 0.0181 - acc: 0.9945 - val_loss: 0.3021 - val_acc: 0.9400\n",
      "Epoch 97/100\n",
      "100/100 [==============================] - 26s 260ms/step - loss: 0.0169 - acc: 0.9955 - val_loss: 0.3181 - val_acc: 0.9280\n",
      "Epoch 98/100\n",
      "100/100 [==============================] - 27s 270ms/step - loss: 0.0207 - acc: 0.9920 - val_loss: 0.4184 - val_acc: 0.9210\n",
      "Epoch 99/100\n",
      "100/100 [==============================] - 26s 262ms/step - loss: 0.0184 - acc: 0.9930 - val_loss: 0.3405 - val_acc: 0.9340\n",
      "Epoch 100/100\n",
      "100/100 [==============================] - 26s 262ms/step - loss: 0.0130 - acc: 0.9955 - val_loss: 0.2850 - val_acc: 0.9440\n"
     ]
    }
   ],
   "source": [
    "model.compile(loss='binary_crossentropy',\n",
    "              optimizer=optimizers.RMSprop(lr=1e-5),\n",
    "              metrics=['acc'])\n",
    "\n",
    "history = model.fit_generator(\n",
    "      train_generator,\n",
    "      steps_per_epoch=100,\n",
    "      epochs=100,\n",
    "      validation_data=validation_generator,\n",
    "      validation_steps=50)"
   ]
  },
  {
   "cell_type": "code",
   "execution_count": 20,
   "metadata": {},
   "outputs": [],
   "source": [
    "model.save('cats_and_dogs_small_4.h5')"
   ]
  },
  {
   "cell_type": "code",
   "execution_count": 21,
   "metadata": {},
   "outputs": [
    {
     "data": {
      "image/png": "[encoded data removed]",
      "text/plain": [
       "<Figure size 432x288 with 1 Axes>"
      ]
     },
     "metadata": {},
     "output_type": "display_data"
    },
    {
     "data": {
      "image/png": "[encoded data removed]",
      "text/plain": [
       "<Figure size 432x288 with 1 Axes>"
      ]
     },
     "metadata": {},
     "output_type": "display_data"
    }
   ],
   "source": [
    "acc = history.history['acc']\n",
    "val_acc = history.history['val_acc']\n",
    "loss = history.history['loss']\n",
    "val_loss = history.history['val_loss']\n",
    "\n",
    "epochs = range(len(acc))\n",
    "\n",
    "plt.plot(epochs, acc, 'bo', label='Training acc')\n",
    "plt.plot(epochs, val_acc, 'b', label='Validation acc')\n",
    "plt.title('Training and validation accuracy')\n",
    "plt.legend()\n",
    "\n",
    "plt.figure()\n",
    "\n",
    "plt.plot(epochs, loss, 'bo', label='Training loss')\n",
    "plt.plot(epochs, val_loss, 'b', label='Validation loss')\n",
    "plt.title('Training and validation loss')\n",
    "plt.legend()\n",
    "\n",
    "plt.show()"
   ]
  },
  {
   "cell_type": "code",
   "execution_count": 22,
   "metadata": {},
   "outputs": [
    {
     "data": {
      "image/png": "[encoded data removed]",
      "text/plain": [
       "<Figure size 432x288 with 1 Axes>"
      ]
     },
     "metadata": {},
     "output_type": "display_data"
    },
    {
     "data": {
      "image/png": "[encoded data removed]",
      "text/plain": [
       "<Figure size 432x288 with 1 Axes>"
      ]
     },
     "metadata": {},
     "output_type": "display_data"
    }
   ],
   "source": [
    "def smooth_curve(points, factor=0.8):\n",
    "  smoothed_points = []\n",
    "  for point in points:\n",
    "    if smoothed_points:\n",
    "      previous = smoothed_points[-1]\n",
    "      smoothed_points.append(previous * factor + point * (1 - factor))\n",
    "    else:\n",
    "      smoothed_points.append(point)\n",
    "  return smoothed_points\n",
    "\n",
    "plt.plot(epochs,\n",
    "         smooth_curve(acc), 'bo', label='Smoothed training acc')\n",
    "plt.plot(epochs,\n",
    "         smooth_curve(val_acc), 'b', label='Smoothed validation acc')\n",
    "plt.title('Training and validation accuracy')\n",
    "plt.legend()\n",
    "\n",
    "plt.figure()\n",
    "\n",
    "plt.plot(epochs,\n",
    "         smooth_curve(loss), 'bo', label='Smoothed training loss')\n",
    "plt.plot(epochs,\n",
    "         smooth_curve(val_loss), 'b', label='Smoothed validation loss')\n",
    "plt.title('Training and validation loss')\n",
    "plt.legend()\n",
    "\n",
    "plt.show()"
   ]
  },
  {
   "cell_type": "code",
   "execution_count": null,
   "metadata": {},
   "outputs": [],
   "source": [
    "test_generator = test_datagen.flow_from_directory(\n",
    "        test_dir,\n",
    "        target_size=(150, 150),\n",
    "        batch_size=20,\n",
    "        class_mode='binary')\n",
    "\n",
    "test_loss, test_acc = model.evaluate_generator(test_generator, steps=50)\n",
    "print('test acc:', test_acc)"
   ]
  }
 ],
 "metadata": {
  "kernelspec": {
   "display_name": "Python 3",
   "language": "python",
   "name": "python3"
  },
  "language_info": {
   "codemirror_mode": {
    "name": "ipython",
    "version": 3
   },
   "file_extension": ".py",
   "mimetype": "text/x-python",
   "name": "python",
   "nbconvert_exporter": "python",
   "pygments_lexer": "ipython3",
   "version": "3.6.4"
  }
 },
 "nbformat": 4,
 "nbformat_minor": 2
}
