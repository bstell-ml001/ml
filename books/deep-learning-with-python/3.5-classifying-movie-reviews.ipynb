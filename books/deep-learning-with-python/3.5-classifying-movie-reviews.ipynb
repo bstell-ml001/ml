{
 "cells": [
  {
   "cell_type": "code",
   "execution_count": 1,
   "metadata": {},
   "outputs": [
    {
     "name": "stderr",
     "output_type": "stream",
     "text": [
      "/usr/lib/python3/dist-packages/h5py/__init__.py:34: FutureWarning: Conversion of the second argument of issubdtype from `float` to `np.floating` is deprecated. In future, it will be treated as `np.float64 == np.dtype(float).type`.\n",
      "  from ._conv import register_converters as _register_converters\n",
      "Using TensorFlow backend.\n"
     ]
    }
   ],
   "source": [
    "import keras\n",
    "# keras.__version__"
   ]
  },
  {
   "cell_type": "code",
   "execution_count": 2,
   "metadata": {},
   "outputs": [],
   "source": [
    "from keras.datasets import imdb\n",
    "\n",
    "(train_data, train_labels), (test_data, test_lables) = imdb.load_data(num_words=10000)\n",
    "# train_data[0][:20]\n",
    "# train_labels[0]"
   ]
  },
  {
   "cell_type": "code",
   "execution_count": 3,
   "metadata": {},
   "outputs": [],
   "source": [
    "import numpy as np\n",
    "\n",
    "def vectorize_sequences(sequences, dimensions=10000):\n",
    "    results = np.zeros((len(sequences), dimensions))\n",
    "    for i, sequence in enumerate(sequences):\n",
    "        results[i, sequence] = 1.\n",
    "    return results\n",
    "\n",
    "x_train = vectorize_sequences(train_data)\n",
    "x_test = vectorize_sequences(test_data)"
   ]
  },
  {
   "cell_type": "code",
   "execution_count": 4,
   "metadata": {},
   "outputs": [],
   "source": [
    "# x_train[0][:20]"
   ]
  },
  {
   "cell_type": "code",
   "execution_count": 5,
   "metadata": {},
   "outputs": [],
   "source": [
    "y_train = np.asarray(train_labels).astype('float32')\n",
    "y_test = np.asarray(test_lables).astype('float32')"
   ]
  },
  {
   "cell_type": "code",
   "execution_count": 6,
   "metadata": {},
   "outputs": [],
   "source": [
    "from keras import models\n",
    "from keras import layers\n",
    "\n",
    "model = models.Sequential()\n",
    "model.add(layers.Dense(16, activation='relu', input_shape=(10000,)))\n",
    "model.add(layers.Dense(16, activation='relu'))\n",
    "model.add(layers.Dense(1, activation='sigmoid'))"
   ]
  },
  {
   "cell_type": "code",
   "execution_count": 7,
   "metadata": {},
   "outputs": [],
   "source": [
    "model.compile(optimizer='rmsprop', loss='binary_crossentropy', metrics=['accuracy'])"
   ]
  },
  {
   "cell_type": "code",
   "execution_count": 8,
   "metadata": {},
   "outputs": [],
   "source": [
    "x_val = x_train[:10000]\n",
    "partial_x_train = x_train[10000:]\n",
    "\n",
    "y_val = y_train[:10000]\n",
    "partial_y_train = y_train[10000:]"
   ]
  },
  {
   "cell_type": "code",
   "execution_count": 9,
   "metadata": {},
   "outputs": [
    {
     "name": "stdout",
     "output_type": "stream",
     "text": [
      "Train on 15000 samples, validate on 10000 samples\n",
      "Epoch 1/20\n",
      "15000/15000 [==============================] - 4s 262us/step - loss: 0.5103 - acc: 0.7797 - val_loss: 0.3856 - val_acc: 0.8649\n",
      "Epoch 2/20\n",
      "15000/15000 [==============================] - 3s 209us/step - loss: 0.3030 - acc: 0.9041 - val_loss: 0.3006 - val_acc: 0.8903\n",
      "Epoch 3/20\n",
      "15000/15000 [==============================] - 3s 228us/step - loss: 0.2177 - acc: 0.9283 - val_loss: 0.3080 - val_acc: 0.8716\n",
      "Epoch 4/20\n",
      "15000/15000 [==============================] - 3s 209us/step - loss: 0.1734 - acc: 0.9440 - val_loss: 0.2818 - val_acc: 0.8861\n",
      "Epoch 5/20\n",
      "15000/15000 [==============================] - 3s 210us/step - loss: 0.1398 - acc: 0.9552 - val_loss: 0.2845 - val_acc: 0.8867\n",
      "Epoch 6/20\n",
      "15000/15000 [==============================] - 3s 233us/step - loss: 0.1118 - acc: 0.9664 - val_loss: 0.3115 - val_acc: 0.8784\n",
      "Epoch 7/20\n",
      "15000/15000 [==============================] - 3s 223us/step - loss: 0.0940 - acc: 0.9725 - val_loss: 0.3150 - val_acc: 0.8849\n",
      "Epoch 8/20\n",
      "15000/15000 [==============================] - 4s 255us/step - loss: 0.0765 - acc: 0.9777 - val_loss: 0.3850 - val_acc: 0.8649\n",
      "Epoch 9/20\n",
      "15000/15000 [==============================] - 3s 227us/step - loss: 0.0618 - acc: 0.9835 - val_loss: 0.3668 - val_acc: 0.8775\n",
      "Epoch 10/20\n",
      "15000/15000 [==============================] - 3s 210us/step - loss: 0.0517 - acc: 0.9863 - val_loss: 0.3872 - val_acc: 0.8801\n",
      "Epoch 11/20\n",
      "15000/15000 [==============================] - 3s 211us/step - loss: 0.0388 - acc: 0.9913 - val_loss: 0.4173 - val_acc: 0.8772\n",
      "Epoch 12/20\n",
      "15000/15000 [==============================] - 3s 216us/step - loss: 0.0333 - acc: 0.9931 - val_loss: 0.4670 - val_acc: 0.8663\n",
      "Epoch 13/20\n",
      "15000/15000 [==============================] - 3s 210us/step - loss: 0.0265 - acc: 0.9945 - val_loss: 0.4780 - val_acc: 0.8741\n",
      "Epoch 14/20\n",
      "15000/15000 [==============================] - 3s 219us/step - loss: 0.0201 - acc: 0.9967 - val_loss: 0.5078 - val_acc: 0.8732\n",
      "Epoch 15/20\n",
      "15000/15000 [==============================] - 3s 232us/step - loss: 0.0138 - acc: 0.9990 - val_loss: 0.5831 - val_acc: 0.8618\n",
      "Epoch 16/20\n",
      "15000/15000 [==============================] - 3s 212us/step - loss: 0.0146 - acc: 0.9977 - val_loss: 0.5753 - val_acc: 0.8702\n",
      "Epoch 17/20\n",
      "15000/15000 [==============================] - 3s 212us/step - loss: 0.0083 - acc: 0.9995 - val_loss: 0.6079 - val_acc: 0.8685\n",
      "Epoch 18/20\n",
      "15000/15000 [==============================] - 3s 224us/step - loss: 0.0105 - acc: 0.9973 - val_loss: 0.6401 - val_acc: 0.8674\n",
      "Epoch 19/20\n",
      "15000/15000 [==============================] - 3s 211us/step - loss: 0.0041 - acc: 0.9999 - val_loss: 0.7025 - val_acc: 0.8581\n",
      "Epoch 20/20\n",
      "15000/15000 [==============================] - 3s 215us/step - loss: 0.0078 - acc: 0.9981 - val_loss: 0.6929 - val_acc: 0.8672\n"
     ]
    }
   ],
   "source": [
    "history = model.fit(partial_x_train,\n",
    "                    partial_y_train,\n",
    "                    epochs=20,\n",
    "                    batch_size=512,\n",
    "                    validation_data=(x_val, y_val))"
   ]
  },
  {
   "cell_type": "code",
   "execution_count": 10,
   "metadata": {},
   "outputs": [
    {
     "data": {
      "text/plain": [
       "dict_keys(['val_loss', 'loss', 'acc', 'val_acc'])"
      ]
     },
     "execution_count": 10,
     "metadata": {},
     "output_type": "execute_result"
    }
   ],
   "source": [
    "history_dict = history.history\n",
    "history_dict.keys()"
   ]
  },
  {
   "cell_type": "code",
   "execution_count": 11,
   "metadata": {},
   "outputs": [
    {
     "data": {
      "text/plain": [
       "<Figure size 640x480 with 1 Axes>"
      ]
     },
     "metadata": {},
     "output_type": "display_data"
    }
   ],
   "source": [
    "import matplotlib.pyplot as plt\n",
    "\n",
    "acc = history_dict['acc']\n",
    "val_acc = history_dict['val_acc']\n",
    "loss = history_dict['loss']\n",
    "val_loss = history_dict['val_loss']\n",
    "\n",
    "epochs = range(1, len(acc) + 1)\n",
    "\n",
    "plt.plot(epochs, loss, 'bo', label='Training loss')\n",
    "plt.plot(epochs, val_loss, 'b', label='Validation loss')\n",
    "plt.title('Training and validation loss')\n",
    "plt.xlabel('Epochs')\n",
    "plt.ylabel('Loss')\n",
    "plt.legend()\n",
    "\n",
    "plt.show()"
   ]
  },
  {
   "cell_type": "code",
   "execution_count": 12,
   "metadata": {},
   "outputs": [
    {
     "data": {
      "image/png": "[encoded data removed]",
      "text/plain": [
       "<Figure size 432x288 with 1 Axes>"
      ]
     },
     "metadata": {},
     "output_type": "display_data"
    }
   ],
   "source": [
    "plt.clf()\n",
    "acc_values = history_dict['acc']\n",
    "val_acc_values = history_dict['val_acc']\n",
    "\n",
    "plt.plot(epochs, acc, 'bo', label='Training acc')\n",
    "plt.plot(epochs, val_acc, 'b', label='Validation acc')\n",
    "plt.title('Training and validation accuracy')\n",
    "plt.xlabel('Epochs')\n",
    "plt.ylabel('Loss')\n",
    "plt.legend()\n",
    "\n",
    "plt.show()"
   ]
  },
  {
   "cell_type": "code",
   "execution_count": 13,
   "metadata": {},
   "outputs": [
    {
     "name": "stdout",
     "output_type": "stream",
     "text": [
      "Epoch 1/4\n",
      "25000/25000 [==============================] - 4s 164us/step - loss: 0.4720 - acc: 0.8210\n",
      "Epoch 2/4\n",
      "25000/25000 [==============================] - 4s 156us/step - loss: 0.2624 - acc: 0.9115\n",
      "Epoch 3/4\n",
      "25000/25000 [==============================] - 4s 162us/step - loss: 0.1983 - acc: 0.9308\n",
      "Epoch 4/4\n",
      "25000/25000 [==============================] - 4s 155us/step - loss: 0.1676 - acc: 0.9406\n",
      "25000/25000 [==============================] - 2s 88us/step\n"
     ]
    }
   ],
   "source": [
    "model = models.Sequential()\n",
    "model.add(layers.Dense(16, activation='relu', input_shape=(10000,)))\n",
    "model.add(layers.Dense(16, activation='relu'))\n",
    "model.add(layers.Dense(1, activation='sigmoid'))\n",
    "\n",
    "model.compile(optimizer='rmsprop', loss='binary_crossentropy', metrics=['accuracy'])\n",
    "\n",
    "model.fit(x_train, y_train, epochs=4, batch_size=512)\n",
    "results = model.evaluate(x_test, y_test)"
   ]
  },
  {
   "cell_type": "code",
   "execution_count": 14,
   "metadata": {},
   "outputs": [
    {
     "data": {
      "text/plain": [
       "[0.3239811464214325, 0.87252]"
      ]
     },
     "execution_count": 14,
     "metadata": {},
     "output_type": "execute_result"
    }
   ],
   "source": [
    "results"
   ]
  },
  {
   "cell_type": "code",
   "execution_count": 15,
   "metadata": {},
   "outputs": [
    {
     "data": {
      "text/plain": [
       "array([[0.12994203],\n",
       "       [0.9997458 ],\n",
       "       [0.2892813 ],\n",
       "       ...,\n",
       "       [0.07681877],\n",
       "       [0.0453826 ],\n",
       "       [0.47930565]], dtype=float32)"
      ]
     },
     "execution_count": 15,
     "metadata": {},
     "output_type": "execute_result"
    }
   ],
   "source": [
    "model.predict(x_test)"
   ]
  },
  {
   "cell_type": "code",
   "execution_count": 16,
   "metadata": {},
   "outputs": [
    {
     "name": "stdout",
     "output_type": "stream",
     "text": [
      "Epoch 1/4\n",
      "25000/25000 [==============================] - 4s 161us/step - loss: 0.4477 - acc: 0.8325\n",
      "Epoch 2/4\n",
      "25000/25000 [==============================] - 4s 156us/step - loss: 0.2797 - acc: 0.9077\n",
      "Epoch 3/4\n",
      "25000/25000 [==============================] - 4s 159us/step - loss: 0.2214 - acc: 0.9244\n",
      "Epoch 4/4\n",
      "25000/25000 [==============================] - 4s 155us/step - loss: 0.1878 - acc: 0.9354\n",
      "25000/25000 [==============================] - 2s 67us/step\n"
     ]
    },
    {
     "data": {
      "text/plain": [
       "array([[0.2617647 ],\n",
       "       [0.999821  ],\n",
       "       [0.8291659 ],\n",
       "       ...,\n",
       "       [0.1397489 ],\n",
       "       [0.11718062],\n",
       "       [0.48576444]], dtype=float32)"
      ]
     },
     "execution_count": 16,
     "metadata": {},
     "output_type": "execute_result"
    }
   ],
   "source": [
    "model = models.Sequential()\n",
    "model.add(layers.Dense(16, activation='relu', input_shape=(10000,)))\n",
    "# model.add(layers.Dense(16, activation='relu'))\n",
    "model.add(layers.Dense(1, activation='sigmoid'))\n",
    "\n",
    "model.compile(optimizer='rmsprop', loss='binary_crossentropy', metrics=['accuracy'])\n",
    "\n",
    "model.fit(x_train, y_train, epochs=4, batch_size=512)\n",
    "results = model.evaluate(x_test, y_test)\n",
    "\n",
    "results\n",
    "model.predict(x_test)"
   ]
  },
  {
   "cell_type": "code",
   "execution_count": 17,
   "metadata": {},
   "outputs": [
    {
     "name": "stdout",
     "output_type": "stream",
     "text": [
      "Epoch 1/4\n",
      "25000/25000 [==============================] - 4s 174us/step - loss: 0.4618 - acc: 0.8197\n",
      "Epoch 2/4\n",
      "25000/25000 [==============================] - 4s 155us/step - loss: 0.2537 - acc: 0.9096\n",
      "Epoch 3/4\n",
      "25000/25000 [==============================] - 4s 159us/step - loss: 0.2021 - acc: 0.9252\n",
      "Epoch 4/4\n",
      "25000/25000 [==============================] - 4s 159us/step - loss: 0.1666 - acc: 0.9394\n",
      "25000/25000 [==============================] - 2s 82us/step\n"
     ]
    },
    {
     "data": {
      "text/plain": [
       "array([[0.182781  ],\n",
       "       [0.9999112 ],\n",
       "       [0.71063036],\n",
       "       ...,\n",
       "       [0.08604397],\n",
       "       [0.04576582],\n",
       "       [0.4332026 ]], dtype=float32)"
      ]
     },
     "execution_count": 17,
     "metadata": {},
     "output_type": "execute_result"
    }
   ],
   "source": [
    "model = models.Sequential()\n",
    "model.add(layers.Dense(16, activation='relu', input_shape=(10000,)))\n",
    "model.add(layers.Dense(16, activation='relu'))\n",
    "model.add(layers.Dense(16, activation='relu'))\n",
    "model.add(layers.Dense(1, activation='sigmoid'))\n",
    "\n",
    "model.compile(optimizer='rmsprop', loss='binary_crossentropy', metrics=['accuracy'])\n",
    "\n",
    "model.fit(x_train, y_train, epochs=4, batch_size=512)\n",
    "results = model.evaluate(x_test, y_test)\n",
    "\n",
    "results\n",
    "model.predict(x_test)"
   ]
  }
 ],
 "metadata": {
  "kernelspec": {
   "display_name": "Python 3",
   "language": "python",
   "name": "python3"
  },
  "language_info": {
   "codemirror_mode": {
    "name": "ipython",
    "version": 3
   },
   "file_extension": ".py",
   "mimetype": "text/x-python",
   "name": "python",
   "nbconvert_exporter": "python",
   "pygments_lexer": "ipython3",
   "version": "3.5.3"
  }
 },
 "nbformat": 4,
 "nbformat_minor": 2
}
