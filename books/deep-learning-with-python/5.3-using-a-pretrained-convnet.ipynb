{
 "cells": [
  {
   "cell_type": "code",
   "execution_count": 1,
   "metadata": {},
   "outputs": [],
   "source": [
    "# Support developing the code on a small cpu only system\n",
    "# The small numbers allow the code to be quickly checked for functionality.\n",
    "use_tiny_sizes_for_dev = False\n",
    "if use_tiny_sizes_for_dev:\n",
    "    report_count = 1\n",
    "    batch_size = 2\n",
    "    training_size = 10\n",
    "    validation_size = 10\n",
    "    test_size = 10\n",
    "    epochs = 2\n",
    "    generator_steps_per_epoch = 1\n",
    "    generator_epochs = 2\n",
    "    generator_validation_steps = 1\n",
    "else:\n",
    "    report_count = 100\n",
    "    batch_size = 20\n",
    "    training_size = 2000\n",
    "    validation_size = 1000\n",
    "    test_size = 1000\n",
    "    epochs = 20\n",
    "    generator_steps_per_epoch = 100\n",
    "    generator_epochs = 30\n",
    "    generator_validation_steps = 50\n"
   ]
  },
  {
   "cell_type": "code",
   "execution_count": 2,
   "metadata": {},
   "outputs": [
    {
     "name": "stderr",
     "output_type": "stream",
     "text": [
      "/home/ubuntu/anaconda3/envs/tensorflow_p36/lib/python3.6/site-packages/h5py/__init__.py:36: FutureWarning: Conversion of the second argument of issubdtype from `float` to `np.floating` is deprecated. In future, it will be treated as `np.float64 == np.dtype(float).type`.\n",
      "  from ._conv import register_converters as _register_converters\n",
      "Using TensorFlow backend.\n",
      "/home/ubuntu/anaconda3/envs/tensorflow_p36/lib/python3.6/site-packages/matplotlib/__init__.py:1067: UserWarning: Duplicate key in file \"/home/ubuntu/.config/matplotlib/matplotlibrc\", line #2\n",
      "  (fname, cnt))\n",
      "/home/ubuntu/anaconda3/envs/tensorflow_p36/lib/python3.6/site-packages/matplotlib/__init__.py:1067: UserWarning: Duplicate key in file \"/home/ubuntu/.config/matplotlib/matplotlibrc\", line #3\n",
      "  (fname, cnt))\n"
     ]
    }
   ],
   "source": [
    "import keras"
   ]
  },
  {
   "cell_type": "code",
   "execution_count": 3,
   "metadata": {},
   "outputs": [],
   "source": [
    "from keras.applications import VGG16\n",
    "\n",
    "conv_base = VGG16(weights='imagenet', include_top=False, input_shape=(150, 150, 3))"
   ]
  },
  {
   "cell_type": "code",
   "execution_count": 4,
   "metadata": {},
   "outputs": [
    {
     "name": "stdout",
     "output_type": "stream",
     "text": [
      "_________________________________________________________________\n",
      "Layer (type)                 Output Shape              Param #   \n",
      "=================================================================\n",
      "input_1 (InputLayer)         (None, 150, 150, 3)       0         \n",
      "_________________________________________________________________\n",
      "block1_conv1 (Conv2D)        (None, 150, 150, 64)      1792      \n",
      "_________________________________________________________________\n",
      "block1_conv2 (Conv2D)        (None, 150, 150, 64)      36928     \n",
      "_________________________________________________________________\n",
      "block1_pool (MaxPooling2D)   (None, 75, 75, 64)        0         \n",
      "_________________________________________________________________\n",
      "block2_conv1 (Conv2D)        (None, 75, 75, 128)       73856     \n",
      "_________________________________________________________________\n",
      "block2_conv2 (Conv2D)        (None, 75, 75, 128)       147584    \n",
      "_________________________________________________________________\n",
      "block2_pool (MaxPooling2D)   (None, 37, 37, 128)       0         \n",
      "_________________________________________________________________\n",
      "block3_conv1 (Conv2D)        (None, 37, 37, 256)       295168    \n",
      "_________________________________________________________________\n",
      "block3_conv2 (Conv2D)        (None, 37, 37, 256)       590080    \n",
      "_________________________________________________________________\n",
      "block3_conv3 (Conv2D)        (None, 37, 37, 256)       590080    \n",
      "_________________________________________________________________\n",
      "block3_pool (MaxPooling2D)   (None, 18, 18, 256)       0         \n",
      "_________________________________________________________________\n",
      "block4_conv1 (Conv2D)        (None, 18, 18, 512)       1180160   \n",
      "_________________________________________________________________\n",
      "block4_conv2 (Conv2D)        (None, 18, 18, 512)       2359808   \n",
      "_________________________________________________________________\n",
      "block4_conv3 (Conv2D)        (None, 18, 18, 512)       2359808   \n",
      "_________________________________________________________________\n",
      "block4_pool (MaxPooling2D)   (None, 9, 9, 512)         0         \n",
      "_________________________________________________________________\n",
      "block5_conv1 (Conv2D)        (None, 9, 9, 512)         2359808   \n",
      "_________________________________________________________________\n",
      "block5_conv2 (Conv2D)        (None, 9, 9, 512)         2359808   \n",
      "_________________________________________________________________\n",
      "block5_conv3 (Conv2D)        (None, 9, 9, 512)         2359808   \n",
      "_________________________________________________________________\n",
      "block5_pool (MaxPooling2D)   (None, 4, 4, 512)         0         \n",
      "=================================================================\n",
      "Total params: 14,714,688\n",
      "Trainable params: 14,714,688\n",
      "Non-trainable params: 0\n",
      "_________________________________________________________________\n"
     ]
    }
   ],
   "source": [
    "conv_base.summary()"
   ]
  },
  {
   "cell_type": "code",
   "execution_count": 5,
   "metadata": {},
   "outputs": [],
   "source": [
    "import os\n",
    "import numpy as np\n",
    "from keras.preprocessing.image import ImageDataGenerator\n",
    "\n",
    "# base_dir = '/home/bstell_ml001/Downloads/cats_and_dogs_small'\n",
    "base_dir = '/home/ubuntu/Downloads/cats_and_dogs_small'\n",
    "\n",
    "train_dir = os.path.join(base_dir, 'train')\n",
    "validation_dir = os.path.join(base_dir, 'validation')\n",
    "test_dir = os.path.join(base_dir, 'test')\n",
    "\n",
    "# print('total train images:', \n",
    "#       len(os.listdir(os.path.join(train_dir, 'cats'))) +\n",
    "#       len(os.listdir(os.path.join(train_dir, 'dogs'))))\n",
    "\n",
    "datagen = ImageDataGenerator(rescale=1./255)\n"
   ]
  },
  {
   "cell_type": "code",
   "execution_count": 7,
   "metadata": {},
   "outputs": [
    {
     "name": "stdout",
     "output_type": "stream",
     "text": [
      "Found 2000 images belonging to 2 classes.\n",
      "i: 0\n",
      "Found 1000 images belonging to 2 classes.\n",
      "i: 0\n",
      "Found 1000 images belonging to 2 classes.\n",
      "i: 0\n"
     ]
    }
   ],
   "source": [
    "def extract_features(directory, sample_count):\n",
    "    features = np.zeros(shape=(sample_count, 4, 4, 512))\n",
    "    labels = np.zeros(shape=(sample_count))\n",
    "    generator = datagen.flow_from_directory(\n",
    "        directory,\n",
    "        target_size=(150, 150),\n",
    "        batch_size=batch_size,\n",
    "        class_mode='binary')\n",
    "    i = 0\n",
    "    for inputs_batch, labels_batch in generator:\n",
    "        if i % report_count == 0:\n",
    "            print('i:', i)\n",
    "        features_batch = conv_base.predict(inputs_batch)\n",
    "        features[i * batch_size : (i + 1) * batch_size] = features_batch\n",
    "        labels[i * batch_size : (i + 1) * batch_size] = labels_batch\n",
    "        i += 1\n",
    "        if i * batch_size >= sample_count:\n",
    "            break\n",
    "    return features, labels\n",
    "\n",
    "train_features, train_labels = extract_features(train_dir, training_size)\n",
    "validation_features, validation_labels = extract_features(validation_dir, validation_size)\n",
    "test_features, test_labels = extract_features(test_dir, test_size)"
   ]
  },
  {
   "cell_type": "code",
   "execution_count": 8,
   "metadata": {},
   "outputs": [],
   "source": [
    "train_features = np.reshape(train_features, (training_size, 4 * 4* 512))\n",
    "validation_features = np.reshape(validation_features, (validation_size, 4 * 4* 512))\n",
    "test_features = np.reshape(test_features, (test_size, 4 * 4* 512))"
   ]
  },
  {
   "cell_type": "code",
   "execution_count": 9,
   "metadata": {},
   "outputs": [
    {
     "name": "stdout",
     "output_type": "stream",
     "text": [
      "Train on 2000 samples, validate on 1000 samples\n",
      "Epoch 1/20\n",
      "2000/2000 [==============================] - 1s 527us/step - loss: 0.5947 - acc: 0.6750 - val_loss: 0.4372 - val_acc: 0.8270\n",
      "Epoch 2/20\n",
      "2000/2000 [==============================] - 1s 344us/step - loss: 0.4223 - acc: 0.8105 - val_loss: 0.3586 - val_acc: 0.8670\n",
      "Epoch 3/20\n",
      "2000/2000 [==============================] - 1s 347us/step - loss: 0.3546 - acc: 0.8470 - val_loss: 0.3313 - val_acc: 0.8550\n",
      "Epoch 4/20\n",
      "2000/2000 [==============================] - 1s 345us/step - loss: 0.3137 - acc: 0.8750 - val_loss: 0.2979 - val_acc: 0.8950\n",
      "Epoch 5/20\n",
      "2000/2000 [==============================] - 1s 352us/step - loss: 0.2884 - acc: 0.8850 - val_loss: 0.2848 - val_acc: 0.8940\n",
      "Epoch 6/20\n",
      "2000/2000 [==============================] - 1s 347us/step - loss: 0.2763 - acc: 0.8855 - val_loss: 0.2718 - val_acc: 0.9030\n",
      "Epoch 7/20\n",
      "2000/2000 [==============================] - 1s 343us/step - loss: 0.2481 - acc: 0.8990 - val_loss: 0.2677 - val_acc: 0.9000\n",
      "Epoch 8/20\n",
      "2000/2000 [==============================] - 1s 344us/step - loss: 0.2365 - acc: 0.9125 - val_loss: 0.2663 - val_acc: 0.8850\n",
      "Epoch 9/20\n",
      "2000/2000 [==============================] - 1s 344us/step - loss: 0.2227 - acc: 0.9145 - val_loss: 0.2535 - val_acc: 0.9040\n",
      "Epoch 10/20\n",
      "2000/2000 [==============================] - 1s 344us/step - loss: 0.2084 - acc: 0.9180 - val_loss: 0.2561 - val_acc: 0.8970\n",
      "Epoch 11/20\n",
      "2000/2000 [==============================] - 1s 347us/step - loss: 0.2003 - acc: 0.9230 - val_loss: 0.2470 - val_acc: 0.9020\n",
      "Epoch 12/20\n",
      "2000/2000 [==============================] - 1s 347us/step - loss: 0.1886 - acc: 0.9320 - val_loss: 0.2507 - val_acc: 0.8990\n",
      "Epoch 13/20\n",
      "2000/2000 [==============================] - 1s 345us/step - loss: 0.1813 - acc: 0.9365 - val_loss: 0.2417 - val_acc: 0.9040\n",
      "Epoch 14/20\n",
      "2000/2000 [==============================] - 1s 344us/step - loss: 0.1736 - acc: 0.9365 - val_loss: 0.2387 - val_acc: 0.9060\n",
      "Epoch 15/20\n",
      "2000/2000 [==============================] - 1s 345us/step - loss: 0.1670 - acc: 0.9355 - val_loss: 0.2370 - val_acc: 0.9040\n",
      "Epoch 16/20\n",
      "2000/2000 [==============================] - 1s 348us/step - loss: 0.1558 - acc: 0.9430 - val_loss: 0.2551 - val_acc: 0.8930\n",
      "Epoch 17/20\n",
      "2000/2000 [==============================] - 1s 348us/step - loss: 0.1539 - acc: 0.9495 - val_loss: 0.2366 - val_acc: 0.9060\n",
      "Epoch 18/20\n",
      "2000/2000 [==============================] - 1s 345us/step - loss: 0.1446 - acc: 0.9460 - val_loss: 0.2332 - val_acc: 0.9030\n",
      "Epoch 19/20\n",
      "2000/2000 [==============================] - 1s 345us/step - loss: 0.1392 - acc: 0.9530 - val_loss: 0.2340 - val_acc: 0.9020\n",
      "Epoch 20/20\n",
      "2000/2000 [==============================] - 1s 347us/step - loss: 0.1362 - acc: 0.9530 - val_loss: 0.2330 - val_acc: 0.9010\n"
     ]
    }
   ],
   "source": [
    "from keras import models, layers, optimizers\n",
    "\n",
    "model = models.Sequential()\n",
    "model.add(layers.Dense(256, activation='relu', input_dim=4 * 4 * 512))\n",
    "model.add(layers.Dropout(0.5))\n",
    "model.add(layers.Dense(1, activation='sigmoid'))\n",
    "\n",
    "model.compile(optimizer=optimizers.RMSprop(lr=2e-5),\n",
    "              loss='binary_crossentropy',\n",
    "              metrics=['acc'])\n",
    "\n",
    "history = model.fit(train_features, train_labels,\n",
    "                    epochs=epochs,\n",
    "                    batch_size=batch_size,\n",
    "                   validation_data=(validation_features, validation_labels))"
   ]
  },
  {
   "cell_type": "code",
   "execution_count": 11,
   "metadata": {},
   "outputs": [
    {
     "data": {
      "image/png": "[encoded data removed]",
      "text/plain": [
       "<Figure size 432x288 with 1 Axes>"
      ]
     },
     "metadata": {},
     "output_type": "display_data"
    },
    {
     "data": {
      "image/png": "[encoded data removed]",
      "text/plain": [
       "<Figure size 432x288 with 1 Axes>"
      ]
     },
     "metadata": {},
     "output_type": "display_data"
    }
   ],
   "source": [
    "import matplotlib.pyplot as plt\n",
    "\n",
    "acc = history.history['acc']\n",
    "val_acc = history.history['val_acc']\n",
    "loss = history.history['loss']\n",
    "val_loss = history.history['val_loss']\n",
    "\n",
    "epochs = range(len(acc))\n",
    "\n",
    "plt.plot(epochs, acc, 'bo', label='Training acc')\n",
    "plt.plot(epochs, val_acc, 'b', label='Validation acc')\n",
    "plt.title('Training and validation accuracy')\n",
    "plt.legend()\n",
    "\n",
    "plt.figure()\n",
    "\n",
    "plt.plot(epochs, loss, 'bo', label='Training loss')\n",
    "plt.plot(epochs, val_loss, 'b', label='Validation loss')\n",
    "plt.title('Training and validation loss')\n",
    "plt.legend()\n",
    "\n",
    "plt.show()"
   ]
  },
  {
   "cell_type": "code",
   "execution_count": 12,
   "metadata": {},
   "outputs": [],
   "source": [
    "from keras import models, layers\n",
    "\n",
    "model = models.Sequential()\n",
    "model.add(conv_base)\n",
    "model.add(layers.Flatten())\n",
    "model.add(layers.Dense(256, activation='relu'))\n",
    "model.add(layers.Dense(1, activation='sigmoid'))"
   ]
  },
  {
   "cell_type": "code",
   "execution_count": 14,
   "metadata": {},
   "outputs": [
    {
     "name": "stdout",
     "output_type": "stream",
     "text": [
      "_________________________________________________________________\n",
      "Layer (type)                 Output Shape              Param #   \n",
      "=================================================================\n",
      "vgg16 (Model)                (None, 4, 4, 512)         14714688  \n",
      "_________________________________________________________________\n",
      "flatten_1 (Flatten)          (None, 8192)              0         \n",
      "_________________________________________________________________\n",
      "dense_3 (Dense)              (None, 256)               2097408   \n",
      "_________________________________________________________________\n",
      "dense_4 (Dense)              (None, 1)                 257       \n",
      "=================================================================\n",
      "Total params: 16,812,353\n",
      "Trainable params: 16,812,353\n",
      "Non-trainable params: 0\n",
      "_________________________________________________________________\n"
     ]
    }
   ],
   "source": [
    "model.summary()"
   ]
  },
  {
   "cell_type": "code",
   "execution_count": 15,
   "metadata": {},
   "outputs": [
    {
     "name": "stdout",
     "output_type": "stream",
     "text": [
      "This is the number of trainable weights before freezing the conv base: 30\n"
     ]
    }
   ],
   "source": [
    "print('This is the number of trainable weights '\n",
    "      'before freezing the conv base:', len(model.trainable_weights))"
   ]
  },
  {
   "cell_type": "code",
   "execution_count": 16,
   "metadata": {},
   "outputs": [],
   "source": [
    "conv_base.trainable = False"
   ]
  },
  {
   "cell_type": "code",
   "execution_count": 17,
   "metadata": {},
   "outputs": [
    {
     "name": "stdout",
     "output_type": "stream",
     "text": [
      "This is the number of trainable weights after freezing the conv base: 4\n"
     ]
    }
   ],
   "source": [
    "print('This is the number of trainable weights '\n",
    "      'after freezing the conv base:', len(model.trainable_weights))"
   ]
  },
  {
   "cell_type": "code",
   "execution_count": 18,
   "metadata": {},
   "outputs": [
    {
     "name": "stdout",
     "output_type": "stream",
     "text": [
      "Found 2000 images belonging to 2 classes.\n",
      "Found 1000 images belonging to 2 classes.\n",
      "Epoch 1/30\n",
      " - 28s - loss: 0.6012 - acc: 0.6790 - val_loss: 0.4517 - val_acc: 0.8270\n",
      "Epoch 2/30\n",
      " - 26s - loss: 0.4879 - acc: 0.7880 - val_loss: 0.3791 - val_acc: 0.8530\n",
      "Epoch 3/30\n",
      " - 26s - loss: 0.4444 - acc: 0.8075 - val_loss: 0.3306 - val_acc: 0.8690\n",
      "Epoch 4/30\n",
      " - 26s - loss: 0.4122 - acc: 0.8205 - val_loss: 0.3072 - val_acc: 0.8840\n",
      "Epoch 5/30\n",
      " - 26s - loss: 0.3803 - acc: 0.8340 - val_loss: 0.2899 - val_acc: 0.8890\n",
      "Epoch 6/30\n",
      " - 26s - loss: 0.3618 - acc: 0.8395 - val_loss: 0.2796 - val_acc: 0.8920\n",
      "Epoch 7/30\n",
      " - 26s - loss: 0.3710 - acc: 0.8310 - val_loss: 0.2761 - val_acc: 0.8870\n",
      "Epoch 8/30\n",
      " - 26s - loss: 0.3507 - acc: 0.8510 - val_loss: 0.2645 - val_acc: 0.8930\n",
      "Epoch 9/30\n",
      " - 26s - loss: 0.3350 - acc: 0.8575 - val_loss: 0.2599 - val_acc: 0.8960\n",
      "Epoch 10/30\n",
      " - 26s - loss: 0.3379 - acc: 0.8530 - val_loss: 0.2587 - val_acc: 0.8950\n",
      "Epoch 11/30\n",
      " - 26s - loss: 0.3294 - acc: 0.8650 - val_loss: 0.2566 - val_acc: 0.8950\n",
      "Epoch 12/30\n",
      " - 26s - loss: 0.3262 - acc: 0.8575 - val_loss: 0.2555 - val_acc: 0.9010\n",
      "Epoch 13/30\n",
      " - 26s - loss: 0.3237 - acc: 0.8600 - val_loss: 0.2543 - val_acc: 0.8980\n",
      "Epoch 14/30\n",
      " - 26s - loss: 0.3210 - acc: 0.8660 - val_loss: 0.2434 - val_acc: 0.9060\n",
      "Epoch 15/30\n",
      " - 26s - loss: 0.3211 - acc: 0.8610 - val_loss: 0.2436 - val_acc: 0.9030\n",
      "Epoch 16/30\n",
      " - 26s - loss: 0.3164 - acc: 0.8585 - val_loss: 0.2432 - val_acc: 0.9020\n",
      "Epoch 17/30\n",
      " - 26s - loss: 0.3020 - acc: 0.8715 - val_loss: 0.2396 - val_acc: 0.9060\n",
      "Epoch 18/30\n",
      " - 26s - loss: 0.3063 - acc: 0.8750 - val_loss: 0.2396 - val_acc: 0.9000\n",
      "Epoch 19/30\n",
      " - 26s - loss: 0.2987 - acc: 0.8675 - val_loss: 0.2397 - val_acc: 0.9060\n",
      "Epoch 20/30\n",
      " - 26s - loss: 0.3075 - acc: 0.8660 - val_loss: 0.2432 - val_acc: 0.9030\n",
      "Epoch 21/30\n",
      " - 26s - loss: 0.2949 - acc: 0.8745 - val_loss: 0.2453 - val_acc: 0.9010\n",
      "Epoch 22/30\n",
      " - 26s - loss: 0.3113 - acc: 0.8580 - val_loss: 0.2384 - val_acc: 0.9080\n",
      "Epoch 23/30\n",
      " - 26s - loss: 0.2898 - acc: 0.8825 - val_loss: 0.2411 - val_acc: 0.9060\n",
      "Epoch 24/30\n",
      " - 26s - loss: 0.3025 - acc: 0.8700 - val_loss: 0.2523 - val_acc: 0.8990\n",
      "Epoch 25/30\n",
      " - 26s - loss: 0.2963 - acc: 0.8710 - val_loss: 0.2504 - val_acc: 0.8920\n",
      "Epoch 26/30\n",
      " - 26s - loss: 0.2833 - acc: 0.8745 - val_loss: 0.2397 - val_acc: 0.9090\n",
      "Epoch 27/30\n",
      " - 26s - loss: 0.3044 - acc: 0.8645 - val_loss: 0.2391 - val_acc: 0.9060\n",
      "Epoch 28/30\n",
      " - 27s - loss: 0.3011 - acc: 0.8715 - val_loss: 0.2389 - val_acc: 0.9050\n",
      "Epoch 29/30\n",
      " - 26s - loss: 0.2667 - acc: 0.8935 - val_loss: 0.2438 - val_acc: 0.9060\n",
      "Epoch 30/30\n",
      " - 26s - loss: 0.2885 - acc: 0.8770 - val_loss: 0.2385 - val_acc: 0.8980\n"
     ]
    }
   ],
   "source": [
    "from keras.preprocessing.image import ImageDataGenerator\n",
    "\n",
    "train_datagen = ImageDataGenerator(\n",
    "    rescale=1./255,\n",
    "    rotation_range=40,\n",
    "    width_shift_range=0.2,\n",
    "    height_shift_range=0.2,\n",
    "    shear_range=0.2,\n",
    "    zoom_range=0.2,\n",
    "    horizontal_flip=True,\n",
    "    fill_mode='nearest')\n",
    "\n",
    "test_datagen = ImageDataGenerator(rescale=1./255)\n",
    "\n",
    "train_generator = train_datagen.flow_from_directory(\n",
    "    train_dir,\n",
    "    target_size=(150, 150),\n",
    "    batch_size=batch_size,\n",
    "    class_mode='binary')\n",
    "\n",
    "validation_generator = test_datagen.flow_from_directory(\n",
    "    validation_dir,\n",
    "    target_size=(150, 150),\n",
    "    batch_size=batch_size,\n",
    "    class_mode='binary')\n",
    "\n",
    "model.compile(loss='binary_crossentropy',\n",
    "              optimizer=optimizers.RMSprop(lr=2e-5),\n",
    "              metrics=['acc'])\n",
    "\n",
    "history = model.fit_generator(\n",
    "    train_generator,\n",
    "    steps_per_epoch=generator_steps_per_epoch,\n",
    "    epochs=generator_epochs,\n",
    "    validation_data=validation_generator,\n",
    "    validation_steps=generator_validation_steps,\n",
    "    verbose=2)"
   ]
  },
  {
   "cell_type": "code",
   "execution_count": 19,
   "metadata": {},
   "outputs": [],
   "source": [
    "model.save('cats_and_dogs_small_3.h5')"
   ]
  },
  {
   "cell_type": "code",
   "execution_count": 20,
   "metadata": {},
   "outputs": [
    {
     "data": {
      "image/png": "[encoded data removed]",
      "text/plain": [
       "<Figure size 432x288 with 1 Axes>"
      ]
     },
     "metadata": {},
     "output_type": "display_data"
    },
    {
     "data": {
      "image/png": "[encoded data removed]",
      "text/plain": [
       "<Figure size 432x288 with 1 Axes>"
      ]
     },
     "metadata": {},
     "output_type": "display_data"
    }
   ],
   "source": [
    "acc = history.history['acc']\n",
    "val_acc = history.history['val_acc']\n",
    "loss = history.history['loss']\n",
    "val_loss = history.history['val_loss']\n",
    "\n",
    "epochs = range(len(acc))\n",
    "\n",
    "plt.plot(epochs, acc, 'bo', label='Training acc')\n",
    "plt.plot(epochs, val_acc, 'b', label='Validation acc')\n",
    "plt.title('Training and validation accuracy')\n",
    "plt.legend()\n",
    "\n",
    "plt.figure()\n",
    "\n",
    "plt.plot(epochs, loss, 'bo', label='Training loss')\n",
    "plt.plot(epochs, val_loss, 'b', label='Validation loss')\n",
    "plt.title('Training and validation loss')\n",
    "plt.legend()\n",
    "\n",
    "plt.show()"
   ]
  }
 ],
 "metadata": {
  "kernelspec": {
   "display_name": "Python 3",
   "language": "python",
   "name": "python3"
  },
  "language_info": {
   "codemirror_mode": {
    "name": "ipython",
    "version": 3
   },
   "file_extension": ".py",
   "mimetype": "text/x-python",
   "name": "python",
   "nbconvert_exporter": "python",
   "pygments_lexer": "ipython3",
   "version": "3.6.4"
  }
 },
 "nbformat": 4,
 "nbformat_minor": 2
}
